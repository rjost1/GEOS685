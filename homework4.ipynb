{
 "cells": [
  {
   "cell_type": "code",
   "execution_count": 1,
   "id": "1fc54380",
   "metadata": {},
   "outputs": [],
   "source": [
    "import pandas as pd\n",
    "import matplotlib.pyplot as plt\n",
    "import numpy as np"
   ]
  },
  {
   "cell_type": "code",
   "execution_count": 2,
   "id": "2b096ec1",
   "metadata": {},
   "outputs": [],
   "source": [
    "csv_file = \"/Users/robertjost/Fall_2025/Biogeochemistry/extract_results.csv\""
   ]
  },
  {
   "cell_type": "code",
   "execution_count": 3,
   "id": "e0a8b7ad",
   "metadata": {},
   "outputs": [],
   "source": [
    "extract_df = pd.read_csv(csv_file)"
   ]
  },
  {
   "cell_type": "code",
   "execution_count": 4,
   "id": "426d0b5a",
   "metadata": {},
   "outputs": [],
   "source": [
    "extract_df[\"P_diff_pct\"] = ((extract_df[\"Pasture\"] - extract_df[\"Wheat\"]) / (extract_df[\"Pasture\"] - extract_df[\"Wheat\"]).sum() * 100).round(3)"
   ]
  },
  {
   "cell_type": "code",
   "execution_count": 5,
   "id": "44e0e1d4",
   "metadata": {},
   "outputs": [
    {
     "data": {
      "text/plain": [
       "'Group: CHCl-released NaHCO3'"
      ]
     },
     "metadata": {},
     "output_type": "display_data"
    },
    {
     "data": {
      "text/html": [
       "<div>\n",
       "<style scoped>\n",
       "    .dataframe tbody tr th:only-of-type {\n",
       "        vertical-align: middle;\n",
       "    }\n",
       "\n",
       "    .dataframe tbody tr th {\n",
       "        vertical-align: top;\n",
       "    }\n",
       "\n",
       "    .dataframe thead th {\n",
       "        text-align: right;\n",
       "    }\n",
       "</style>\n",
       "<table border=\"1\" class=\"dataframe\">\n",
       "  <thead>\n",
       "    <tr style=\"text-align: right;\">\n",
       "      <th></th>\n",
       "      <th>Method</th>\n",
       "      <th>Pool</th>\n",
       "      <th>Pasture</th>\n",
       "      <th>Wheat</th>\n",
       "      <th>P_diff_pct</th>\n",
       "    </tr>\n",
       "  </thead>\n",
       "  <tbody>\n",
       "    <tr>\n",
       "      <th>2</th>\n",
       "      <td>CHCl-released NaHCO3</td>\n",
       "      <td>Inorganic</td>\n",
       "      <td>3.8</td>\n",
       "      <td>2.8</td>\n",
       "      <td>0.452</td>\n",
       "    </tr>\n",
       "    <tr>\n",
       "      <th>7</th>\n",
       "      <td>CHCl-released NaHCO3</td>\n",
       "      <td>Organic</td>\n",
       "      <td>4.1</td>\n",
       "      <td>2.2</td>\n",
       "      <td>0.859</td>\n",
       "    </tr>\n",
       "  </tbody>\n",
       "</table>\n",
       "</div>"
      ],
      "text/plain": [
       "                 Method       Pool  Pasture  Wheat  P_diff_pct\n",
       "2  CHCl-released NaHCO3  Inorganic      3.8    2.8       0.452\n",
       "7  CHCl-released NaHCO3    Organic      4.1    2.2       0.859"
      ]
     },
     "metadata": {},
     "output_type": "display_data"
    },
    {
     "data": {
      "text/plain": [
       "'Group: H2SO4/H2O2'"
      ]
     },
     "metadata": {},
     "output_type": "display_data"
    },
    {
     "data": {
      "text/html": [
       "<div>\n",
       "<style scoped>\n",
       "    .dataframe tbody tr th:only-of-type {\n",
       "        vertical-align: middle;\n",
       "    }\n",
       "\n",
       "    .dataframe tbody tr th {\n",
       "        vertical-align: top;\n",
       "    }\n",
       "\n",
       "    .dataframe thead th {\n",
       "        text-align: right;\n",
       "    }\n",
       "</style>\n",
       "<table border=\"1\" class=\"dataframe\">\n",
       "  <thead>\n",
       "    <tr style=\"text-align: right;\">\n",
       "      <th></th>\n",
       "      <th>Method</th>\n",
       "      <th>Pool</th>\n",
       "      <th>Pasture</th>\n",
       "      <th>Wheat</th>\n",
       "      <th>P_diff_pct</th>\n",
       "    </tr>\n",
       "  </thead>\n",
       "  <tbody>\n",
       "    <tr>\n",
       "      <th>10</th>\n",
       "      <td>H2SO4/H2O2</td>\n",
       "      <td>Residual</td>\n",
       "      <td>376.0</td>\n",
       "      <td>261.0</td>\n",
       "      <td>51.989</td>\n",
       "    </tr>\n",
       "  </tbody>\n",
       "</table>\n",
       "</div>"
      ],
      "text/plain": [
       "        Method      Pool  Pasture  Wheat  P_diff_pct\n",
       "10  H2SO4/H2O2  Residual    376.0  261.0      51.989"
      ]
     },
     "metadata": {},
     "output_type": "display_data"
    },
    {
     "data": {
      "text/plain": [
       "'Group: HCl'"
      ]
     },
     "metadata": {},
     "output_type": "display_data"
    },
    {
     "data": {
      "text/html": [
       "<div>\n",
       "<style scoped>\n",
       "    .dataframe tbody tr th:only-of-type {\n",
       "        vertical-align: middle;\n",
       "    }\n",
       "\n",
       "    .dataframe tbody tr th {\n",
       "        vertical-align: top;\n",
       "    }\n",
       "\n",
       "    .dataframe thead th {\n",
       "        text-align: right;\n",
       "    }\n",
       "</style>\n",
       "<table border=\"1\" class=\"dataframe\">\n",
       "  <thead>\n",
       "    <tr style=\"text-align: right;\">\n",
       "      <th></th>\n",
       "      <th>Method</th>\n",
       "      <th>Pool</th>\n",
       "      <th>Pasture</th>\n",
       "      <th>Wheat</th>\n",
       "      <th>P_diff_pct</th>\n",
       "    </tr>\n",
       "  </thead>\n",
       "  <tbody>\n",
       "    <tr>\n",
       "      <th>5</th>\n",
       "      <td>HCl</td>\n",
       "      <td>Inorganic</td>\n",
       "      <td>133.0</td>\n",
       "      <td>117.0</td>\n",
       "      <td>7.233</td>\n",
       "    </tr>\n",
       "  </tbody>\n",
       "</table>\n",
       "</div>"
      ],
      "text/plain": [
       "  Method       Pool  Pasture  Wheat  P_diff_pct\n",
       "5    HCl  Inorganic    133.0  117.0       7.233"
      ]
     },
     "metadata": {},
     "output_type": "display_data"
    },
    {
     "data": {
      "text/plain": [
       "'Group: NaHCO3'"
      ]
     },
     "metadata": {},
     "output_type": "display_data"
    },
    {
     "data": {
      "text/html": [
       "<div>\n",
       "<style scoped>\n",
       "    .dataframe tbody tr th:only-of-type {\n",
       "        vertical-align: middle;\n",
       "    }\n",
       "\n",
       "    .dataframe tbody tr th {\n",
       "        vertical-align: top;\n",
       "    }\n",
       "\n",
       "    .dataframe thead th {\n",
       "        text-align: right;\n",
       "    }\n",
       "</style>\n",
       "<table border=\"1\" class=\"dataframe\">\n",
       "  <thead>\n",
       "    <tr style=\"text-align: right;\">\n",
       "      <th></th>\n",
       "      <th>Method</th>\n",
       "      <th>Pool</th>\n",
       "      <th>Pasture</th>\n",
       "      <th>Wheat</th>\n",
       "      <th>P_diff_pct</th>\n",
       "    </tr>\n",
       "  </thead>\n",
       "  <tbody>\n",
       "    <tr>\n",
       "      <th>1</th>\n",
       "      <td>NaHCO3</td>\n",
       "      <td>Inorganic</td>\n",
       "      <td>29.7</td>\n",
       "      <td>15.4</td>\n",
       "      <td>6.465</td>\n",
       "    </tr>\n",
       "    <tr>\n",
       "      <th>6</th>\n",
       "      <td>NaHCO3</td>\n",
       "      <td>Organic</td>\n",
       "      <td>19.4</td>\n",
       "      <td>12.3</td>\n",
       "      <td>3.210</td>\n",
       "    </tr>\n",
       "  </tbody>\n",
       "</table>\n",
       "</div>"
      ],
      "text/plain": [
       "   Method       Pool  Pasture  Wheat  P_diff_pct\n",
       "1  NaHCO3  Inorganic     29.7   15.4       6.465\n",
       "6  NaHCO3    Organic     19.4   12.3       3.210"
      ]
     },
     "metadata": {},
     "output_type": "display_data"
    },
    {
     "data": {
      "text/plain": [
       "'Group: NaOH'"
      ]
     },
     "metadata": {},
     "output_type": "display_data"
    },
    {
     "data": {
      "text/html": [
       "<div>\n",
       "<style scoped>\n",
       "    .dataframe tbody tr th:only-of-type {\n",
       "        vertical-align: middle;\n",
       "    }\n",
       "\n",
       "    .dataframe tbody tr th {\n",
       "        vertical-align: top;\n",
       "    }\n",
       "\n",
       "    .dataframe thead th {\n",
       "        text-align: right;\n",
       "    }\n",
       "</style>\n",
       "<table border=\"1\" class=\"dataframe\">\n",
       "  <thead>\n",
       "    <tr style=\"text-align: right;\">\n",
       "      <th></th>\n",
       "      <th>Method</th>\n",
       "      <th>Pool</th>\n",
       "      <th>Pasture</th>\n",
       "      <th>Wheat</th>\n",
       "      <th>P_diff_pct</th>\n",
       "    </tr>\n",
       "  </thead>\n",
       "  <tbody>\n",
       "    <tr>\n",
       "      <th>3</th>\n",
       "      <td>NaOH</td>\n",
       "      <td>Inorganic</td>\n",
       "      <td>23.0</td>\n",
       "      <td>20.3</td>\n",
       "      <td>1.221</td>\n",
       "    </tr>\n",
       "    <tr>\n",
       "      <th>8</th>\n",
       "      <td>NaOH</td>\n",
       "      <td>Organic</td>\n",
       "      <td>107.0</td>\n",
       "      <td>73.0</td>\n",
       "      <td>15.371</td>\n",
       "    </tr>\n",
       "  </tbody>\n",
       "</table>\n",
       "</div>"
      ],
      "text/plain": [
       "  Method       Pool  Pasture  Wheat  P_diff_pct\n",
       "3   NaOH  Inorganic     23.0   20.3       1.221\n",
       "8   NaOH    Organic    107.0   73.0      15.371"
      ]
     },
     "metadata": {},
     "output_type": "display_data"
    },
    {
     "data": {
      "text/plain": [
       "'Group: Resin'"
      ]
     },
     "metadata": {},
     "output_type": "display_data"
    },
    {
     "data": {
      "text/html": [
       "<div>\n",
       "<style scoped>\n",
       "    .dataframe tbody tr th:only-of-type {\n",
       "        vertical-align: middle;\n",
       "    }\n",
       "\n",
       "    .dataframe tbody tr th {\n",
       "        vertical-align: top;\n",
       "    }\n",
       "\n",
       "    .dataframe thead th {\n",
       "        text-align: right;\n",
       "    }\n",
       "</style>\n",
       "<table border=\"1\" class=\"dataframe\">\n",
       "  <thead>\n",
       "    <tr style=\"text-align: right;\">\n",
       "      <th></th>\n",
       "      <th>Method</th>\n",
       "      <th>Pool</th>\n",
       "      <th>Pasture</th>\n",
       "      <th>Wheat</th>\n",
       "      <th>P_diff_pct</th>\n",
       "    </tr>\n",
       "  </thead>\n",
       "  <tbody>\n",
       "    <tr>\n",
       "      <th>0</th>\n",
       "      <td>Resin</td>\n",
       "      <td>Inorganic</td>\n",
       "      <td>41.2</td>\n",
       "      <td>23.8</td>\n",
       "      <td>7.866</td>\n",
       "    </tr>\n",
       "  </tbody>\n",
       "</table>\n",
       "</div>"
      ],
      "text/plain": [
       "  Method       Pool  Pasture  Wheat  P_diff_pct\n",
       "0  Resin  Inorganic     41.2   23.8       7.866"
      ]
     },
     "metadata": {},
     "output_type": "display_data"
    },
    {
     "data": {
      "text/plain": [
       "'Group: Sonicate-NaOH'"
      ]
     },
     "metadata": {},
     "output_type": "display_data"
    },
    {
     "data": {
      "text/html": [
       "<div>\n",
       "<style scoped>\n",
       "    .dataframe tbody tr th:only-of-type {\n",
       "        vertical-align: middle;\n",
       "    }\n",
       "\n",
       "    .dataframe tbody tr th {\n",
       "        vertical-align: top;\n",
       "    }\n",
       "\n",
       "    .dataframe thead th {\n",
       "        text-align: right;\n",
       "    }\n",
       "</style>\n",
       "<table border=\"1\" class=\"dataframe\">\n",
       "  <thead>\n",
       "    <tr style=\"text-align: right;\">\n",
       "      <th></th>\n",
       "      <th>Method</th>\n",
       "      <th>Pool</th>\n",
       "      <th>Pasture</th>\n",
       "      <th>Wheat</th>\n",
       "      <th>P_diff_pct</th>\n",
       "    </tr>\n",
       "  </thead>\n",
       "  <tbody>\n",
       "    <tr>\n",
       "      <th>4</th>\n",
       "      <td>Sonicate-NaOH</td>\n",
       "      <td>Inorganic</td>\n",
       "      <td>12.6</td>\n",
       "      <td>7.8</td>\n",
       "      <td>2.170</td>\n",
       "    </tr>\n",
       "    <tr>\n",
       "      <th>9</th>\n",
       "      <td>Sonicate-NaOH</td>\n",
       "      <td>Organic</td>\n",
       "      <td>22.0</td>\n",
       "      <td>15.0</td>\n",
       "      <td>3.165</td>\n",
       "    </tr>\n",
       "  </tbody>\n",
       "</table>\n",
       "</div>"
      ],
      "text/plain": [
       "          Method       Pool  Pasture  Wheat  P_diff_pct\n",
       "4  Sonicate-NaOH  Inorganic     12.6    7.8       2.170\n",
       "9  Sonicate-NaOH    Organic     22.0   15.0       3.165"
      ]
     },
     "metadata": {},
     "output_type": "display_data"
    }
   ],
   "source": [
    "methods = extract_df.groupby(\"Method\")\n",
    "pools = extract_df.groupby(\"Pool\")\n",
    "for name, group in methods:\n",
    "    display(f\"Group: {name}\")\n",
    "    display(group)"
   ]
  },
  {
   "cell_type": "code",
   "execution_count": 6,
   "id": "29b2cc6f",
   "metadata": {},
   "outputs": [],
   "source": [
    "def plot_grouped_bars(\n",
    "    df,\n",
    "    category_col,\n",
    "    group_col,\n",
    "    value_cols,\n",
    "    groups_to_plot=None,\n",
    "    figsize=(12, 5),\n",
    "    title=None,\n",
    "    ylabel=\"Value\"\n",
    "):\n",
    "    \"\"\"\n",
    "    Plot side-by-side bar charts for multiple numeric series by category,\n",
    "    split into subplots by group. Uses one shared y-axis label.\n",
    "\n",
    "    Parameters\n",
    "    ----------\n",
    "    df : pandas.DataFrame\n",
    "        Input dataframe containing the data.\n",
    "    category_col : str\n",
    "        Column name for the x-axis categories (e.g., 'Method').\n",
    "    group_col : str\n",
    "        Column name used to split data into subplots (e.g., 'Pool').\n",
    "    value_cols : list of str\n",
    "        List of numeric column names to plot as separate bars per category.\n",
    "    groups_to_plot : list of str, optional\n",
    "        Specific group values to plot. If None, all unique groups are used.\n",
    "    figsize : tuple, optional\n",
    "        Figure size (width, height). Default is (12, 5).\n",
    "    title : str, optional\n",
    "        Overall figure title.\n",
    "    ylabel : str, optional\n",
    "        Label for the shared y-axis.\n",
    "\n",
    "    Returns\n",
    "    -------\n",
    "    None\n",
    "        Displays the matplotlib figure.\n",
    "    \"\"\"\n",
    "    if groups_to_plot is None:\n",
    "        groups_to_plot = df[group_col].unique()\n",
    "\n",
    "    n_groups = len(groups_to_plot)\n",
    "    fig, axes = plt.subplots(1, n_groups, figsize=figsize, sharey=True)\n",
    "\n",
    "    # Ensure axes is iterable\n",
    "    if n_groups == 1:\n",
    "        axes = [axes]\n",
    "\n",
    "    width = 0.8 / len(value_cols)  # adjust bar width based on number of series\n",
    "\n",
    "    for ax, group_value in zip(axes, groups_to_plot):\n",
    "        subset = df[df[group_col] == group_value]\n",
    "        x = np.arange(len(subset))\n",
    "\n",
    "        # Plot each numeric column as a bar series\n",
    "        for i, col in enumerate(value_cols):\n",
    "            ax.bar(\n",
    "                x + (i - len(value_cols)/2) * width + width/2,\n",
    "                subset[col],\n",
    "                width,\n",
    "                label=col\n",
    "            )\n",
    "\n",
    "        ax.set_xticks(x)\n",
    "        ax.set_xticklabels(subset[category_col], rotation=45, ha=\"right\")\n",
    "        ax.set_title(str(group_value))\n",
    "        ax.legend()\n",
    "\n",
    "    # Shared y-axis label\n",
    "    fig.text(0.04, 0.5, ylabel, va=\"center\", rotation=\"vertical\", fontsize=12)\n",
    "\n",
    "    if title:\n",
    "        fig.suptitle(title, fontsize=14, y=1.02)\n",
    "\n",
    "    plt.tight_layout(rect=[0.05, 0, 1, 1])\n",
    "    plt.show()"
   ]
  },
  {
   "cell_type": "code",
   "execution_count": 12,
   "id": "77d0abb2",
   "metadata": {},
   "outputs": [
    {
     "data": {
      "image/png": "[encoded data removed]",
      "text/plain": [
       "<Figure size 1200x500 with 2 Axes>"
      ]
     },
     "metadata": {},
     "output_type": "display_data"
    }
   ],
   "source": [
    "plot_grouped_bars(\n",
    "    extract_df,\n",
    "    category_col=\"Method\",\n",
    "    group_col=\"Pool\",\n",
    "    value_cols=[\"P_diff_pct\"],\n",
    "    groups_to_plot=[\"Inorganic\", \"Organic\"],\n",
    "    title=\"Fractional differences in P concentrations\",\n",
    "    ylabel=\"% Difference of P-fraction\"\n",
    ")"
   ]
  },
  {
   "cell_type": "markdown",
   "id": "848f9cad",
   "metadata": {},
   "source": [
    "Figure 1. Fractional differences in P concentrations seperated into inorganic (left) and organic pools. From left to right the extraction solvents are progessively stronger and therefore more capable of releasing hard to access P. In all extractions the pasture field has higher P yield with the second largest difference in P fraction from the NaOH extraction (the largest difference is from residual P, displayed below). This suggests that a majority of the P in both fields is bound to transition metals (Al and Fe) and not readily available. Furthermore, the largest proportion of P was derived from the nonextractable residual fraction which represents the P that is structurally bound in tissue and apatite minerals and therefore the most inaccessible."
   ]
  },
  {
   "cell_type": "code",
   "execution_count": 14,
   "id": "6024a081",
   "metadata": {},
   "outputs": [
    {
     "data": {
      "image/png": "[encoded data removed]",
      "text/plain": [
       "<Figure size 1200x500 with 1 Axes>"
      ]
     },
     "metadata": {},
     "output_type": "display_data"
    }
   ],
   "source": [
    "plot_grouped_bars(\n",
    "    extract_df,\n",
    "    category_col=\"Method\",\n",
    "    group_col=\"Pool\",\n",
    "    value_cols=[\"P_diff_pct\"],\n",
    "    groups_to_plot=[\"Residual\"],\n",
    "    title=\"Fractional difference in Residual P\",\n",
    "    ylabel=\"% Difference of P-fraction\"\n",
    ")"
   ]
  },
  {
   "cell_type": "markdown",
   "id": "5cfd326a",
   "metadata": {},
   "source": [
    "# Part 2"
   ]
  },
  {
   "cell_type": "code",
   "execution_count": 9,
   "id": "80b17e61",
   "metadata": {},
   "outputs": [],
   "source": [
    "acre_m2 = 2 * 4046.86 # m2\n",
    "bulk_wheat = 1.6 * 1000 # gcm-3\n",
    "bulk_pasture = 1.4 * 1000 # gcm-3\n",
    "ug_kg = 1000000\n",
    "\n",
    "total_p = extract_df.groupby(\"Pool\")[[\"Pasture\", \"Wheat\"]].sum()\n",
    "total_p_overall = extract_df[[\"Pasture\", \"Wheat\"]].sum()\n",
    "\n",
    "wheat_soil_vol = acre_m2 * bulk_wheat\n",
    "pasture_soil_vol = acre_m2 * bulk_pasture\n"
   ]
  },
  {
   "cell_type": "code",
   "execution_count": 10,
   "id": "43d2a02b",
   "metadata": {},
   "outputs": [],
   "source": [
    "total_P_kg = total_p_overall / ug_kg\n",
    "wheat_total_p = wheat_soil_vol * total_P_kg.iloc[0]\n",
    "pasture_total_p = pasture_soil_vol * total_P_kg.iloc[1]\n"
   ]
  },
  {
   "cell_type": "code",
   "execution_count": 11,
   "id": "da26c558",
   "metadata": {},
   "outputs": [
    {
     "data": {
      "text/markdown": [
       "\n",
       "Mass of P in field managed for Pasture: 6238.96 $kgP$\\\n",
       "Mass of P in field managed for Wheat: 9994.77 $kgP$\n"
      ],
      "text/plain": [
       "<IPython.core.display.Markdown object>"
      ]
     },
     "metadata": {},
     "output_type": "display_data"
    }
   ],
   "source": [
    "from IPython.display import display, Markdown\n",
    "\n",
    "display(Markdown(\n",
    "    fr\"\"\"\n",
    "Mass of P in field managed for Pasture: {pasture_total_p:.2f} $kgP$\\\n",
    "Mass of P in field managed for Wheat: {wheat_total_p:.2f} $kgP$\n",
    "\"\"\"\n",
    "))"
   ]
  },
  {
   "cell_type": "markdown",
   "id": "f36b0485",
   "metadata": {},
   "source": [
    "This calculation assumes uniform P concentration, bulk soil density, and depth across a very large area so does not capture the spatial variability P concentrations throughout the study area. This calculation doesn't consider change over time which may be significant for the wheat cultivated pasture since the majority of the P is contained in plants the concentrations of P might vary seasonally.\n",
    "The amount of P in the cultivated field was lower relative to the pasture field, if the only difference in P content was the cultivation strategy then regular additions of plant matter to the wheat cultivated field would help to increase the overall concentration of P in the soil.    "
   ]
  }
 ],
 "metadata": {
  "kernelspec": {
   "display_name": "geo505",
   "language": "python",
   "name": "python3"
  },
  "language_info": {
   "codemirror_mode": {
    "name": "ipython",
    "version": 3
   },
   "file_extension": ".py",
   "mimetype": "text/x-python",
   "name": "python",
   "nbconvert_exporter": "python",
   "pygments_lexer": "ipython3",
   "version": "3.12.11"
  }
 },
 "nbformat": 4,
 "nbformat_minor": 5
}
