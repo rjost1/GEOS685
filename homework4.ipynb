{
 "cells": [
  {
   "cell_type": "code",
   "execution_count": 3,
   "id": "1fc54380",
   "metadata": {},
   "outputs": [],
   "source": [
    "import pandas as pd\n",
    "import matplotlib.pyplot as plt\n",
    "import numpy as np"
   ]
  },
  {
   "cell_type": "code",
   "execution_count": 4,
   "id": "2b096ec1",
   "metadata": {},
   "outputs": [],
   "source": [
    "csv_file = \"/Users/robertjost/Fall_2025/Biogeochemistry/extract_results.csv\""
   ]
  },
  {
   "cell_type": "code",
   "execution_count": 5,
   "id": "e0a8b7ad",
   "metadata": {},
   "outputs": [],
   "source": [
    "extract_df = pd.read_csv(csv_file)"
   ]
  },
  {
   "cell_type": "code",
   "execution_count": 13,
   "id": "426d0b5a",
   "metadata": {},
   "outputs": [],
   "source": [
    "extract_df[\"Pasture_pct\"] = (extract_df[\"Pasture\"] / (extract_df[\"Pasture\"] + extract_df[\"Wheat\"]) * 100).round(1)\n",
    "extract_df[\"Wheat_pct\"]   = (extract_df[\"Wheat\"] / (extract_df[\"Pasture\"] + extract_df[\"Wheat\"]) * 100).round(1)"
   ]
  },
  {
   "cell_type": "code",
   "execution_count": 15,
   "id": "44e0e1d4",
   "metadata": {},
   "outputs": [
    {
     "data": {
      "text/plain": [
       "'Group: CHCl-released NaHCO3'"
      ]
     },
     "metadata": {},
     "output_type": "display_data"
    },
    {
     "data": {
      "text/html": [
       "<div>\n",
       "<style scoped>\n",
       "    .dataframe tbody tr th:only-of-type {\n",
       "        vertical-align: middle;\n",
       "    }\n",
       "\n",
       "    .dataframe tbody tr th {\n",
       "        vertical-align: top;\n",
       "    }\n",
       "\n",
       "    .dataframe thead th {\n",
       "        text-align: right;\n",
       "    }\n",
       "</style>\n",
       "<table border=\"1\" class=\"dataframe\">\n",
       "  <thead>\n",
       "    <tr style=\"text-align: right;\">\n",
       "      <th></th>\n",
       "      <th>Method</th>\n",
       "      <th>Pool</th>\n",
       "      <th>Pasture</th>\n",
       "      <th>Wheat</th>\n",
       "      <th>Pasture_pct</th>\n",
       "      <th>Wheat_pct</th>\n",
       "    </tr>\n",
       "  </thead>\n",
       "  <tbody>\n",
       "    <tr>\n",
       "      <th>2</th>\n",
       "      <td>CHCl-released NaHCO3</td>\n",
       "      <td>Inorganic</td>\n",
       "      <td>3.8</td>\n",
       "      <td>2.8</td>\n",
       "      <td>57.6</td>\n",
       "      <td>42.4</td>\n",
       "    </tr>\n",
       "    <tr>\n",
       "      <th>7</th>\n",
       "      <td>CHCl-released NaHCO3</td>\n",
       "      <td>Organic</td>\n",
       "      <td>4.1</td>\n",
       "      <td>2.2</td>\n",
       "      <td>65.1</td>\n",
       "      <td>34.9</td>\n",
       "    </tr>\n",
       "  </tbody>\n",
       "</table>\n",
       "</div>"
      ],
      "text/plain": [
       "                 Method       Pool  Pasture  Wheat  Pasture_pct  Wheat_pct\n",
       "2  CHCl-released NaHCO3  Inorganic      3.8    2.8         57.6       42.4\n",
       "7  CHCl-released NaHCO3    Organic      4.1    2.2         65.1       34.9"
      ]
     },
     "metadata": {},
     "output_type": "display_data"
    },
    {
     "data": {
      "text/plain": [
       "'Group: H2SO4/H2O2'"
      ]
     },
     "metadata": {},
     "output_type": "display_data"
    },
    {
     "data": {
      "text/html": [
       "<div>\n",
       "<style scoped>\n",
       "    .dataframe tbody tr th:only-of-type {\n",
       "        vertical-align: middle;\n",
       "    }\n",
       "\n",
       "    .dataframe tbody tr th {\n",
       "        vertical-align: top;\n",
       "    }\n",
       "\n",
       "    .dataframe thead th {\n",
       "        text-align: right;\n",
       "    }\n",
       "</style>\n",
       "<table border=\"1\" class=\"dataframe\">\n",
       "  <thead>\n",
       "    <tr style=\"text-align: right;\">\n",
       "      <th></th>\n",
       "      <th>Method</th>\n",
       "      <th>Pool</th>\n",
       "      <th>Pasture</th>\n",
       "      <th>Wheat</th>\n",
       "      <th>Pasture_pct</th>\n",
       "      <th>Wheat_pct</th>\n",
       "    </tr>\n",
       "  </thead>\n",
       "  <tbody>\n",
       "    <tr>\n",
       "      <th>10</th>\n",
       "      <td>H2SO4/H2O2</td>\n",
       "      <td>Residual</td>\n",
       "      <td>376.0</td>\n",
       "      <td>261.0</td>\n",
       "      <td>59.0</td>\n",
       "      <td>41.0</td>\n",
       "    </tr>\n",
       "  </tbody>\n",
       "</table>\n",
       "</div>"
      ],
      "text/plain": [
       "        Method      Pool  Pasture  Wheat  Pasture_pct  Wheat_pct\n",
       "10  H2SO4/H2O2  Residual    376.0  261.0         59.0       41.0"
      ]
     },
     "metadata": {},
     "output_type": "display_data"
    },
    {
     "data": {
      "text/plain": [
       "'Group: HCl'"
      ]
     },
     "metadata": {},
     "output_type": "display_data"
    },
    {
     "data": {
      "text/html": [
       "<div>\n",
       "<style scoped>\n",
       "    .dataframe tbody tr th:only-of-type {\n",
       "        vertical-align: middle;\n",
       "    }\n",
       "\n",
       "    .dataframe tbody tr th {\n",
       "        vertical-align: top;\n",
       "    }\n",
       "\n",
       "    .dataframe thead th {\n",
       "        text-align: right;\n",
       "    }\n",
       "</style>\n",
       "<table border=\"1\" class=\"dataframe\">\n",
       "  <thead>\n",
       "    <tr style=\"text-align: right;\">\n",
       "      <th></th>\n",
       "      <th>Method</th>\n",
       "      <th>Pool</th>\n",
       "      <th>Pasture</th>\n",
       "      <th>Wheat</th>\n",
       "      <th>Pasture_pct</th>\n",
       "      <th>Wheat_pct</th>\n",
       "    </tr>\n",
       "  </thead>\n",
       "  <tbody>\n",
       "    <tr>\n",
       "      <th>5</th>\n",
       "      <td>HCl</td>\n",
       "      <td>Inorganic</td>\n",
       "      <td>133.0</td>\n",
       "      <td>117.0</td>\n",
       "      <td>53.2</td>\n",
       "      <td>46.8</td>\n",
       "    </tr>\n",
       "  </tbody>\n",
       "</table>\n",
       "</div>"
      ],
      "text/plain": [
       "  Method       Pool  Pasture  Wheat  Pasture_pct  Wheat_pct\n",
       "5    HCl  Inorganic    133.0  117.0         53.2       46.8"
      ]
     },
     "metadata": {},
     "output_type": "display_data"
    },
    {
     "data": {
      "text/plain": [
       "'Group: NaHCO3'"
      ]
     },
     "metadata": {},
     "output_type": "display_data"
    },
    {
     "data": {
      "text/html": [
       "<div>\n",
       "<style scoped>\n",
       "    .dataframe tbody tr th:only-of-type {\n",
       "        vertical-align: middle;\n",
       "    }\n",
       "\n",
       "    .dataframe tbody tr th {\n",
       "        vertical-align: top;\n",
       "    }\n",
       "\n",
       "    .dataframe thead th {\n",
       "        text-align: right;\n",
       "    }\n",
       "</style>\n",
       "<table border=\"1\" class=\"dataframe\">\n",
       "  <thead>\n",
       "    <tr style=\"text-align: right;\">\n",
       "      <th></th>\n",
       "      <th>Method</th>\n",
       "      <th>Pool</th>\n",
       "      <th>Pasture</th>\n",
       "      <th>Wheat</th>\n",
       "      <th>Pasture_pct</th>\n",
       "      <th>Wheat_pct</th>\n",
       "    </tr>\n",
       "  </thead>\n",
       "  <tbody>\n",
       "    <tr>\n",
       "      <th>1</th>\n",
       "      <td>NaHCO3</td>\n",
       "      <td>Inorganic</td>\n",
       "      <td>29.7</td>\n",
       "      <td>15.4</td>\n",
       "      <td>65.9</td>\n",
       "      <td>34.1</td>\n",
       "    </tr>\n",
       "    <tr>\n",
       "      <th>6</th>\n",
       "      <td>NaHCO3</td>\n",
       "      <td>Organic</td>\n",
       "      <td>19.4</td>\n",
       "      <td>12.3</td>\n",
       "      <td>61.2</td>\n",
       "      <td>38.8</td>\n",
       "    </tr>\n",
       "  </tbody>\n",
       "</table>\n",
       "</div>"
      ],
      "text/plain": [
       "   Method       Pool  Pasture  Wheat  Pasture_pct  Wheat_pct\n",
       "1  NaHCO3  Inorganic     29.7   15.4         65.9       34.1\n",
       "6  NaHCO3    Organic     19.4   12.3         61.2       38.8"
      ]
     },
     "metadata": {},
     "output_type": "display_data"
    },
    {
     "data": {
      "text/plain": [
       "'Group: NaOH'"
      ]
     },
     "metadata": {},
     "output_type": "display_data"
    },
    {
     "data": {
      "text/html": [
       "<div>\n",
       "<style scoped>\n",
       "    .dataframe tbody tr th:only-of-type {\n",
       "        vertical-align: middle;\n",
       "    }\n",
       "\n",
       "    .dataframe tbody tr th {\n",
       "        vertical-align: top;\n",
       "    }\n",
       "\n",
       "    .dataframe thead th {\n",
       "        text-align: right;\n",
       "    }\n",
       "</style>\n",
       "<table border=\"1\" class=\"dataframe\">\n",
       "  <thead>\n",
       "    <tr style=\"text-align: right;\">\n",
       "      <th></th>\n",
       "      <th>Method</th>\n",
       "      <th>Pool</th>\n",
       "      <th>Pasture</th>\n",
       "      <th>Wheat</th>\n",
       "      <th>Pasture_pct</th>\n",
       "      <th>Wheat_pct</th>\n",
       "    </tr>\n",
       "  </thead>\n",
       "  <tbody>\n",
       "    <tr>\n",
       "      <th>3</th>\n",
       "      <td>NaOH</td>\n",
       "      <td>Inorganic</td>\n",
       "      <td>23.0</td>\n",
       "      <td>20.3</td>\n",
       "      <td>53.1</td>\n",
       "      <td>46.9</td>\n",
       "    </tr>\n",
       "    <tr>\n",
       "      <th>8</th>\n",
       "      <td>NaOH</td>\n",
       "      <td>Organic</td>\n",
       "      <td>107.0</td>\n",
       "      <td>73.0</td>\n",
       "      <td>59.4</td>\n",
       "      <td>40.6</td>\n",
       "    </tr>\n",
       "  </tbody>\n",
       "</table>\n",
       "</div>"
      ],
      "text/plain": [
       "  Method       Pool  Pasture  Wheat  Pasture_pct  Wheat_pct\n",
       "3   NaOH  Inorganic     23.0   20.3         53.1       46.9\n",
       "8   NaOH    Organic    107.0   73.0         59.4       40.6"
      ]
     },
     "metadata": {},
     "output_type": "display_data"
    },
    {
     "data": {
      "text/plain": [
       "'Group: Resin'"
      ]
     },
     "metadata": {},
     "output_type": "display_data"
    },
    {
     "data": {
      "text/html": [
       "<div>\n",
       "<style scoped>\n",
       "    .dataframe tbody tr th:only-of-type {\n",
       "        vertical-align: middle;\n",
       "    }\n",
       "\n",
       "    .dataframe tbody tr th {\n",
       "        vertical-align: top;\n",
       "    }\n",
       "\n",
       "    .dataframe thead th {\n",
       "        text-align: right;\n",
       "    }\n",
       "</style>\n",
       "<table border=\"1\" class=\"dataframe\">\n",
       "  <thead>\n",
       "    <tr style=\"text-align: right;\">\n",
       "      <th></th>\n",
       "      <th>Method</th>\n",
       "      <th>Pool</th>\n",
       "      <th>Pasture</th>\n",
       "      <th>Wheat</th>\n",
       "      <th>Pasture_pct</th>\n",
       "      <th>Wheat_pct</th>\n",
       "    </tr>\n",
       "  </thead>\n",
       "  <tbody>\n",
       "    <tr>\n",
       "      <th>0</th>\n",
       "      <td>Resin</td>\n",
       "      <td>Inorganic</td>\n",
       "      <td>41.2</td>\n",
       "      <td>23.8</td>\n",
       "      <td>63.4</td>\n",
       "      <td>36.6</td>\n",
       "    </tr>\n",
       "  </tbody>\n",
       "</table>\n",
       "</div>"
      ],
      "text/plain": [
       "  Method       Pool  Pasture  Wheat  Pasture_pct  Wheat_pct\n",
       "0  Resin  Inorganic     41.2   23.8         63.4       36.6"
      ]
     },
     "metadata": {},
     "output_type": "display_data"
    },
    {
     "data": {
      "text/plain": [
       "'Group: Sonicate-NaOH'"
      ]
     },
     "metadata": {},
     "output_type": "display_data"
    },
    {
     "data": {
      "text/html": [
       "<div>\n",
       "<style scoped>\n",
       "    .dataframe tbody tr th:only-of-type {\n",
       "        vertical-align: middle;\n",
       "    }\n",
       "\n",
       "    .dataframe tbody tr th {\n",
       "        vertical-align: top;\n",
       "    }\n",
       "\n",
       "    .dataframe thead th {\n",
       "        text-align: right;\n",
       "    }\n",
       "</style>\n",
       "<table border=\"1\" class=\"dataframe\">\n",
       "  <thead>\n",
       "    <tr style=\"text-align: right;\">\n",
       "      <th></th>\n",
       "      <th>Method</th>\n",
       "      <th>Pool</th>\n",
       "      <th>Pasture</th>\n",
       "      <th>Wheat</th>\n",
       "      <th>Pasture_pct</th>\n",
       "      <th>Wheat_pct</th>\n",
       "    </tr>\n",
       "  </thead>\n",
       "  <tbody>\n",
       "    <tr>\n",
       "      <th>4</th>\n",
       "      <td>Sonicate-NaOH</td>\n",
       "      <td>Inorganic</td>\n",
       "      <td>12.6</td>\n",
       "      <td>7.8</td>\n",
       "      <td>61.8</td>\n",
       "      <td>38.2</td>\n",
       "    </tr>\n",
       "    <tr>\n",
       "      <th>9</th>\n",
       "      <td>Sonicate-NaOH</td>\n",
       "      <td>Organic</td>\n",
       "      <td>22.0</td>\n",
       "      <td>15.0</td>\n",
       "      <td>59.5</td>\n",
       "      <td>40.5</td>\n",
       "    </tr>\n",
       "  </tbody>\n",
       "</table>\n",
       "</div>"
      ],
      "text/plain": [
       "          Method       Pool  Pasture  Wheat  Pasture_pct  Wheat_pct\n",
       "4  Sonicate-NaOH  Inorganic     12.6    7.8         61.8       38.2\n",
       "9  Sonicate-NaOH    Organic     22.0   15.0         59.5       40.5"
      ]
     },
     "metadata": {},
     "output_type": "display_data"
    }
   ],
   "source": [
    "methods = extract_df.groupby(\"Method\")\n",
    "pools = extract_df.groupby(\"Pool\")\n",
    "for name, group in methods:\n",
    "    display(f\"Group: {name}\")\n",
    "    display(group)"
   ]
  },
  {
   "cell_type": "code",
   "execution_count": 11,
   "id": "29b2cc6f",
   "metadata": {},
   "outputs": [],
   "source": [
    "def plot_grouped_bars(\n",
    "    df,\n",
    "    category_col,\n",
    "    group_col,\n",
    "    value_cols,\n",
    "    groups_to_plot=None,\n",
    "    figsize=(12, 5),\n",
    "    title=None,\n",
    "    ylabel=\"Value\"\n",
    "):\n",
    "    \"\"\"\n",
    "    Plot side-by-side bar charts for multiple numeric series by category,\n",
    "    split into subplots by group. Uses one shared y-axis label.\n",
    "\n",
    "    Parameters\n",
    "    ----------\n",
    "    df : pandas.DataFrame\n",
    "        Input dataframe containing the data.\n",
    "    category_col : str\n",
    "        Column name for the x-axis categories (e.g., 'Method').\n",
    "    group_col : str\n",
    "        Column name used to split data into subplots (e.g., 'Pool').\n",
    "    value_cols : list of str\n",
    "        List of numeric column names to plot as separate bars per category.\n",
    "    groups_to_plot : list of str, optional\n",
    "        Specific group values to plot. If None, all unique groups are used.\n",
    "    figsize : tuple, optional\n",
    "        Figure size (width, height). Default is (12, 5).\n",
    "    title : str, optional\n",
    "        Overall figure title.\n",
    "    ylabel : str, optional\n",
    "        Label for the shared y-axis.\n",
    "\n",
    "    Returns\n",
    "    -------\n",
    "    None\n",
    "        Displays the matplotlib figure.\n",
    "    \"\"\"\n",
    "    if groups_to_plot is None:\n",
    "        groups_to_plot = df[group_col].unique()\n",
    "\n",
    "    n_groups = len(groups_to_plot)\n",
    "    fig, axes = plt.subplots(1, n_groups, figsize=figsize, sharey=True)\n",
    "\n",
    "    # Ensure axes is iterable\n",
    "    if n_groups == 1:\n",
    "        axes = [axes]\n",
    "\n",
    "    width = 0.8 / len(value_cols)  # adjust bar width based on number of series\n",
    "\n",
    "    for ax, group_value in zip(axes, groups_to_plot):\n",
    "        subset = df[df[group_col] == group_value]\n",
    "        x = np.arange(len(subset))\n",
    "\n",
    "        # Plot each numeric column as a bar series\n",
    "        for i, col in enumerate(value_cols):\n",
    "            ax.bar(\n",
    "                x + (i - len(value_cols)/2) * width + width/2,\n",
    "                subset[col],\n",
    "                width,\n",
    "                label=col\n",
    "            )\n",
    "\n",
    "        ax.set_xticks(x)\n",
    "        ax.set_xticklabels(subset[category_col], rotation=45, ha=\"right\")\n",
    "        ax.set_title(str(group_value))\n",
    "        ax.legend()\n",
    "\n",
    "    # Shared y-axis label\n",
    "    fig.text(0.04, 0.5, ylabel, va=\"center\", rotation=\"vertical\", fontsize=12)\n",
    "\n",
    "    if title:\n",
    "        fig.suptitle(title, fontsize=14, y=1.02)\n",
    "\n",
    "    plt.tight_layout(rect=[0.05, 0, 1, 1])\n",
    "    plt.show()"
   ]
  },
  {
   "cell_type": "code",
   "execution_count": null,
   "id": "77d0abb2",
   "metadata": {},
   "outputs": [
    {
     "data": {
      "image/png": "[encoded data removed]",
      "text/plain": [
       "<Figure size 1200x500 with 2 Axes>"
      ]
     },
     "metadata": {},
     "output_type": "display_data"
    }
   ],
   "source": [
    "plot_grouped_bars(\n",
    "    extract_df,\n",
    "    category_col=\"Method\",\n",
    "    group_col=\"Pool\",\n",
    "    value_cols=[\"Pasture_pct\", \"Wheat_pct\"],\n",
    "    groups_to_plot=[\"Inorganic\", \"Organic\"],\n",
    "    title=\"P Concentrations by Method and Pool\",\n",
    "    ylabel=\"% P \"\n",
    ")"
   ]
  },
  {
   "cell_type": "markdown",
   "id": "5cfd326a",
   "metadata": {},
   "source": [
    "# Part 2"
   ]
  },
  {
   "cell_type": "code",
   "execution_count": null,
   "id": "da26c558",
   "metadata": {},
   "outputs": [
    {
     "data": {
      "text/markdown": [
       "\n",
       "Rate of Manganese oxidation: 2.359935e-06 $\\,ugMn\\,g_{sed}^{-1}\\,yr^{-1}$\n",
       "\n"
      ],
      "text/plain": [
       "<IPython.core.display.Markdown object>"
      ]
     },
     "metadata": {},
     "output_type": "display_data"
    }
   ],
   "source": [
    "from IPython.display import display, Markdown\n",
    "\n",
    "display(Markdown(\n",
    "    fr\"\"\"\n",
    "Rate of Manganese oxidation: {Mn_oxidation:e} $\\,ugMn\\,g_{{sed}}^{{-1}}\\,yr^{{-1}}$\n",
    "\"\"\"\n",
    "))"
   ]
  }
 ],
 "metadata": {
  "kernelspec": {
   "display_name": "geo505",
   "language": "python",
   "name": "python3"
  },
  "language_info": {
   "codemirror_mode": {
    "name": "ipython",
    "version": 3
   },
   "file_extension": ".py",
   "mimetype": "text/x-python",
   "name": "python",
   "nbconvert_exporter": "python",
   "pygments_lexer": "ipython3",
   "version": "3.12.11"
  }
 },
 "nbformat": 4,
 "nbformat_minor": 5
}
