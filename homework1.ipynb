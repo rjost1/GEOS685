{
 "cells": [
  {
   "cell_type": "code",
   "execution_count": 1,
   "id": "be9f5bb9",
   "metadata": {},
   "outputs": [],
   "source": [
    "import pandas as pd\n",
    "import matplotlib.pyplot as plt\n",
    "import numpy as np"
   ]
  },
  {
   "cell_type": "markdown",
   "id": "e6b22089",
   "metadata": {},
   "source": [
    "# Part 1"
   ]
  },
  {
   "cell_type": "code",
   "execution_count": 2,
   "id": "2283ef21",
   "metadata": {},
   "outputs": [],
   "source": [
    "csv_file = \"/Users/robertjost/Fall_2025/Biogeochemistry/dust_dataHW1.csv\""
   ]
  },
  {
   "cell_type": "code",
   "execution_count": null,
   "id": "2ba00b5d",
   "metadata": {},
   "outputs": [],
   "source": [
    "# concentration is g / ml, flux is g / m^2 / yr.\n",
    "\n",
    "dust_df = pd.read_csv(csv_file)\n"
   ]
  },
  {
   "cell_type": "markdown",
   "id": "b279d1ca",
   "metadata": {},
   "source": [
    "<h2 style=\"text-align: center;\">Convert Concentration to a unitless term, assuming the density of water.</h2>"
   ]
  },
  {
   "cell_type": "markdown",
   "id": "748baa5b",
   "metadata": {},
   "source": [
    "$$\n",
    "\\dfrac{Concentration}{density_{H_{2}0}} = \\dfrac{mg}{L} \\cdot \\dfrac{1 \\, g}{1000 \\, mg} \\cdot \\dfrac{1000 \\, L}{1 \\, m^3} \\cdot \\dfrac{1 \\, kg}{1000 \\, g} \\cdot \\dfrac{1 \\, m^3}{1000 \\, kg}\n",
    "$$"
   ]
  },
  {
   "cell_type": "markdown",
   "id": "80cedb79",
   "metadata": {},
   "source": [
    "\n",
    "1. Convert P and Ca concentrations from mg * L-1 to g * m-3, which ends up being a one-to-one conversion. \n",
    "2. Convert the concentration to kg m-3. \n",
    "3. Divide the concentration with an assumed density of water to be 1e3 kg m-3.\n",
    "\n",
    "Combining steps 2 and 3 results in a conversion factor of 1e6 which is used in the following cell."
   ]
  },
  {
   "cell_type": "code",
   "execution_count": 4,
   "id": "0fa884e9",
   "metadata": {},
   "outputs": [],
   "source": [
    "\n",
    "dust_df[\"P_flux\"] = (dust_df[\"P_conc\"] /1000000) * dust_df[\"flux_gm2yr\"]\n",
    "dust_df[\"Ca_flux\"] = (dust_df[\"Ca_conc\"] /1000000) * dust_df[\"flux_gm2yr\"]"
   ]
  },
  {
   "cell_type": "code",
   "execution_count": 5,
   "id": "4bc0e771",
   "metadata": {},
   "outputs": [
    {
     "data": {
      "text/html": [
       "<div>\n",
       "<style scoped>\n",
       "    .dataframe tbody tr th:only-of-type {\n",
       "        vertical-align: middle;\n",
       "    }\n",
       "\n",
       "    .dataframe tbody tr th {\n",
       "        vertical-align: top;\n",
       "    }\n",
       "\n",
       "    .dataframe thead th {\n",
       "        text-align: right;\n",
       "    }\n",
       "</style>\n",
       "<table border=\"1\" class=\"dataframe\">\n",
       "  <thead>\n",
       "    <tr style=\"text-align: right;\">\n",
       "      <th></th>\n",
       "      <th>ID</th>\n",
       "      <th>Ecosystem</th>\n",
       "      <th>Season</th>\n",
       "      <th>P_conc</th>\n",
       "      <th>Ca_conc</th>\n",
       "      <th>flux_gm2yr</th>\n",
       "      <th>P_flux</th>\n",
       "      <th>Ca_flux</th>\n",
       "    </tr>\n",
       "  </thead>\n",
       "  <tbody>\n",
       "    <tr>\n",
       "      <th>7</th>\n",
       "      <td>8</td>\n",
       "      <td>Plains</td>\n",
       "      <td>JAS</td>\n",
       "      <td>2007.50</td>\n",
       "      <td>9701.5</td>\n",
       "      <td>14.282538</td>\n",
       "      <td>0.028672</td>\n",
       "      <td>0.138562</td>\n",
       "    </tr>\n",
       "    <tr>\n",
       "      <th>4</th>\n",
       "      <td>5</td>\n",
       "      <td>Plains</td>\n",
       "      <td>MJ</td>\n",
       "      <td>2417.95</td>\n",
       "      <td>8247.0</td>\n",
       "      <td>15.986543</td>\n",
       "      <td>0.038655</td>\n",
       "      <td>0.131841</td>\n",
       "    </tr>\n",
       "    <tr>\n",
       "      <th>2</th>\n",
       "      <td>3</td>\n",
       "      <td>Foothills</td>\n",
       "      <td>FMA</td>\n",
       "      <td>1134.00</td>\n",
       "      <td>9418.0</td>\n",
       "      <td>6.999662</td>\n",
       "      <td>0.007938</td>\n",
       "      <td>0.065923</td>\n",
       "    </tr>\n",
       "    <tr>\n",
       "      <th>8</th>\n",
       "      <td>9</td>\n",
       "      <td>Foothills</td>\n",
       "      <td>JAS</td>\n",
       "      <td>2652.00</td>\n",
       "      <td>8372.5</td>\n",
       "      <td>9.707827</td>\n",
       "      <td>0.025745</td>\n",
       "      <td>0.081279</td>\n",
       "    </tr>\n",
       "    <tr>\n",
       "      <th>5</th>\n",
       "      <td>6</td>\n",
       "      <td>Foothills</td>\n",
       "      <td>MJ</td>\n",
       "      <td>3245.30</td>\n",
       "      <td>5843.0</td>\n",
       "      <td>21.734655</td>\n",
       "      <td>0.070535</td>\n",
       "      <td>0.126996</td>\n",
       "    </tr>\n",
       "    <tr>\n",
       "      <th>0</th>\n",
       "      <td>1</td>\n",
       "      <td>Foothills</td>\n",
       "      <td>NDJ</td>\n",
       "      <td>1028.00</td>\n",
       "      <td>10861.0</td>\n",
       "      <td>5.307173</td>\n",
       "      <td>0.005456</td>\n",
       "      <td>0.057641</td>\n",
       "    </tr>\n",
       "    <tr>\n",
       "      <th>3</th>\n",
       "      <td>4</td>\n",
       "      <td>Montane</td>\n",
       "      <td>FMA</td>\n",
       "      <td>1235.50</td>\n",
       "      <td>8839.5</td>\n",
       "      <td>7.370548</td>\n",
       "      <td>0.009106</td>\n",
       "      <td>0.065152</td>\n",
       "    </tr>\n",
       "    <tr>\n",
       "      <th>9</th>\n",
       "      <td>10</td>\n",
       "      <td>Montane</td>\n",
       "      <td>JAS</td>\n",
       "      <td>2813.00</td>\n",
       "      <td>7236.5</td>\n",
       "      <td>10.445604</td>\n",
       "      <td>0.029383</td>\n",
       "      <td>0.075590</td>\n",
       "    </tr>\n",
       "    <tr>\n",
       "      <th>6</th>\n",
       "      <td>7</td>\n",
       "      <td>Montane</td>\n",
       "      <td>MJ</td>\n",
       "      <td>3558.50</td>\n",
       "      <td>4760.5</td>\n",
       "      <td>12.983546</td>\n",
       "      <td>0.046202</td>\n",
       "      <td>0.061808</td>\n",
       "    </tr>\n",
       "    <tr>\n",
       "      <th>1</th>\n",
       "      <td>2</td>\n",
       "      <td>Montane</td>\n",
       "      <td>NDJ</td>\n",
       "      <td>778.00</td>\n",
       "      <td>7455.0</td>\n",
       "      <td>8.608287</td>\n",
       "      <td>0.006697</td>\n",
       "      <td>0.064175</td>\n",
       "    </tr>\n",
       "    <tr>\n",
       "      <th>10</th>\n",
       "      <td>11</td>\n",
       "      <td>Subalpine</td>\n",
       "      <td>JAS</td>\n",
       "      <td>1958.00</td>\n",
       "      <td>7061.0</td>\n",
       "      <td>11.843223</td>\n",
       "      <td>0.023189</td>\n",
       "      <td>0.083625</td>\n",
       "    </tr>\n",
       "    <tr>\n",
       "      <th>11</th>\n",
       "      <td>12</td>\n",
       "      <td>Alpine</td>\n",
       "      <td>JAS</td>\n",
       "      <td>3351.00</td>\n",
       "      <td>12149.5</td>\n",
       "      <td>6.371747</td>\n",
       "      <td>0.021352</td>\n",
       "      <td>0.077414</td>\n",
       "    </tr>\n",
       "  </tbody>\n",
       "</table>\n",
       "</div>"
      ],
      "text/plain": [
       "    ID  Ecosystem Season   P_conc  Ca_conc  flux_gm2yr    P_flux   Ca_flux\n",
       "7    8     Plains    JAS  2007.50   9701.5   14.282538  0.028672  0.138562\n",
       "4    5     Plains     MJ  2417.95   8247.0   15.986543  0.038655  0.131841\n",
       "2    3  Foothills    FMA  1134.00   9418.0    6.999662  0.007938  0.065923\n",
       "8    9  Foothills    JAS  2652.00   8372.5    9.707827  0.025745  0.081279\n",
       "5    6  Foothills     MJ  3245.30   5843.0   21.734655  0.070535  0.126996\n",
       "0    1  Foothills    NDJ  1028.00  10861.0    5.307173  0.005456  0.057641\n",
       "3    4    Montane    FMA  1235.50   8839.5    7.370548  0.009106  0.065152\n",
       "9   10    Montane    JAS  2813.00   7236.5   10.445604  0.029383  0.075590\n",
       "6    7    Montane     MJ  3558.50   4760.5   12.983546  0.046202  0.061808\n",
       "1    2    Montane    NDJ   778.00   7455.0    8.608287  0.006697  0.064175\n",
       "10  11  Subalpine    JAS  1958.00   7061.0   11.843223  0.023189  0.083625\n",
       "11  12     Alpine    JAS  3351.00  12149.5    6.371747  0.021352  0.077414"
      ]
     },
     "execution_count": 5,
     "metadata": {},
     "output_type": "execute_result"
    }
   ],
   "source": [
    "# sort the dataframe according to the elevation gradient of the ecosystems\n",
    "elevation_gradient = [\"Plains\", \"Foothills\", \"Montane\", \"Subalpine\", \"Alpine\"]\n",
    "\n",
    "dust_df[\"Ecosystem\"] = pd.Categorical(dust_df[\"Ecosystem\"], categories=elevation_gradient, ordered=True)\n",
    "dust_df_sorted = dust_df.sort_values([\"Ecosystem\", \"Season\"])\n",
    "dust_df_sorted"
   ]
  },
  {
   "cell_type": "code",
   "execution_count": 6,
   "id": "cbeff1f3",
   "metadata": {},
   "outputs": [],
   "source": [
    "seasons = dust_df.groupby(\"Season\", observed=True)\n",
    "ecosystem = dust_df.groupby(\"Ecosystem\", observed=True)"
   ]
  },
  {
   "cell_type": "code",
   "execution_count": 7,
   "id": "879d0741",
   "metadata": {},
   "outputs": [],
   "source": [
    "# Plotting variables\n",
    "marker_types = ['o', 's', '^', 'D', 'v']\n",
    "season_order = [\"NDJ\", \"FMA\", \"MJ\", \"JAS\"]\n",
    "font_labels = {'family': 'Arial', 'color': 'black', 'size': 14}\n",
    "font_titles = {'family': 'Arial', 'color': 'black', 'size': 16}\n",
    "# grouped bar chart\n",
    "bar_width = 0.15\n",
    "x = np.arange(len(season_order))"
   ]
  },
  {
   "cell_type": "code",
   "execution_count": null,
   "id": "92198e68",
   "metadata": {},
   "outputs": [
    {
     "data": {
      "image/png": "[encoded data removed]",
      "text/plain": [
       "<Figure size 600x600 with 1 Axes>"
      ]
     },
     "metadata": {},
     "output_type": "display_data"
    }
   ],
   "source": [
    "# Figure 1 - Grouped bar chart for P\n",
    "plt.figure(figsize=(6,6))\n",
    "for idx, (name, group) in enumerate(ecosystem):\n",
    "    group = group.set_index(\"Season\").reindex(season_order).reset_index()\n",
    "    plt.bar(x + idx * bar_width, group[\"P_flux\"], width=bar_width, label=name)\n",
    "\n",
    "plt.xlabel(\"Season\", fontdict=font_labels)\n",
    "plt.ylabel(\"Flux (kg m$^{-2}$ yr$^{-1}$)\", fontdict=font_labels)\n",
    "plt.title(\"Phosphorous flux for each ecosystem\", fontdict=font_titles)\n",
    "plt.xticks(x + bar_width * (len(list(ecosystem)) - 1) / 2, season_order)\n",
    "plt.legend(title=\"Ecosystem\", loc=\"upper left\")\n",
    "#plt.figtext(0, -0.005, P_caption, ha=\"left\", fontsize=12)\n",
    "plt.show()"
   ]
  },
  {
   "cell_type": "markdown",
   "id": "af63eba8",
   "metadata": {},
   "source": [
    "​​Figure 1. Bar chart showing the mean phosphorus flux (kg m-2 yr) along the y-axis, measured over periods of 2-3 months along the x-axis (Seasons) at sites within distinct ecosystems along an elevation gradient increasing from Plains to Alpine. Dust collection sites were operational during all seasons at the Foothills and Montane sites while the Plains, Subalpine, and Alpine sites were operated during the spring (MJ) and summer (JAS) periods. Flux values are lowest during the winter months (NDJ & FMA) in the Foothills and Montane sites but then increase by two orders of magnitude during the spring (MJ). Most of the phosphorus is derived from plant pollen which explains the exponential increase in flux values from winter to spring followed by a reduction in the summer. The prevailing wind direction over this region shifts during the spring, switching from west to east. This shift in wind direction has considerable implications for dust deposition given this area’s location east of the continental divide. Easterly prevailing winds are more likely to interact with the surface and accumulate dust. The air mass is forced aloft over the divide and the dust remains suspended in the middle troposphere. The observed increase in dust flux during the spring and summer periods can be attributed to this shift in direction which happens to be downwind of the Plains ecosystem which is a substantial source of particulate matter due to industrial and agricultural land use.  \n"
   ]
  },
  {
   "cell_type": "code",
   "execution_count": null,
   "id": "8e06eac0",
   "metadata": {},
   "outputs": [
    {
     "data": {
      "image/png": "[encoded data removed]",
      "text/plain": [
       "<Figure size 600x600 with 1 Axes>"
      ]
     },
     "metadata": {},
     "output_type": "display_data"
    }
   ],
   "source": [
    "# Figure 2 - Grouped bar chart for Ca\n",
    "plt.figure(figsize=(6,6))\n",
    "for idx, (name, group) in enumerate(ecosystem):\n",
    "    group = group.set_index(\"Season\").reindex(season_order).reset_index()\n",
    "    plt.bar(x + idx * bar_width, group[\"Ca_flux\"], width=bar_width, label=name)\n",
    "\n",
    "plt.xlabel(\"Season\", fontdict=font_labels)\n",
    "plt.ylabel(\"Flux (kg m$^{-2}$ yr$^{-1}$)\", fontdict=font_labels)\n",
    "plt.title(\"Calcium flux for each ecosystem\", fontdict=font_titles)\n",
    "plt.xticks(x + bar_width * (len(list(ecosystem)) - 1) / 2, season_order)\n",
    "plt.legend(title=\"Ecosystem\", loc=\"upper left\")\n",
    "#plt.figtext(0, -0.005, Ca_caption, ha=\"left\", fontsize=12)\n",
    "plt.show()"
   ]
  },
  {
   "cell_type": "markdown",
   "id": "aabc5f48",
   "metadata": {},
   "source": [
    "Figure 2. Bar chart showing the mean calcium flux (kg m-2 yr) along the y-axis, measured over periods of 2-3 months along the x-axis (Seasons) at sites within distinct ecosystems along an elevation gradient increasing from Plains to Alpine. Dust collection sites were operational during all seasons at the Foothills and Montane sites while the Plains, Subalpine, and Alpine sites were operated during the spring (MJ) and summer (JAS) periods. Flux values are lowest during the winter months (NDJ & FMA) in the Foothills and Montane sites but then increase by one order of magnitude during the spring (MJ) and summer (JAS). In the plains and foothills ecosystems, calcium flux remains steady throughout the year. This suggests that the calcium fraction has a different source relative to phosphorus."
   ]
  },
  {
   "cell_type": "markdown",
   "id": "6a410078",
   "metadata": {},
   "source": [
    "# Part 2"
   ]
  },
  {
   "cell_type": "code",
   "execution_count": 12,
   "id": "c96a35a6",
   "metadata": {},
   "outputs": [
    {
     "data": {
      "text/markdown": [
       "The net change in Phosphorpous for this watershed is 130.0 kg."
      ],
      "text/plain": [
       "<IPython.core.display.Markdown object>"
      ]
     },
     "metadata": {},
     "output_type": "display_data"
    }
   ],
   "source": [
    "from IPython.display import display, Markdown\n",
    "p_out = 1e-1 / 1e4\n",
    "p_in = 2.3e-2 / 1e3\n",
    "a_ws = 1e1 * 1e6\n",
    "\n",
    "delta_p = a_ws * (p_in - p_out)\n",
    "md_str = (f\"The net change in Phosphorpous for this watershed is {delta_p} kg.\")\n",
    "display(Markdown(md_str))"
   ]
  },
  {
   "cell_type": "markdown",
   "id": "bfe8ec57",
   "metadata": {},
   "source": [
    "1. Net positive annual storage of P could change NPP and algal biomass which would effect the whole subalpine ecosystem.\n",
    "2. This equation integrates across the atmosphere, lithosphere, and hydrosphere, by assuming the primary input of phosphorous into the system is derived from dust which originated in the lithosphere then picked up by wind and transported in the atmosphere and then deposited into the hydrosphere (and other parts of the lithosphere)."
   ]
  },
  {
   "cell_type": "markdown",
   "id": "a750f87b",
   "metadata": {},
   "source": []
  }
 ],
 "metadata": {
  "kernelspec": {
   "display_name": "geo505",
   "language": "python",
   "name": "python3"
  },
  "language_info": {
   "codemirror_mode": {
    "name": "ipython",
    "version": 3
   },
   "file_extension": ".py",
   "mimetype": "text/x-python",
   "name": "python",
   "nbconvert_exporter": "python",
   "pygments_lexer": "ipython3",
   "version": "3.12.11"
  }
 },
 "nbformat": 4,
 "nbformat_minor": 5
}
